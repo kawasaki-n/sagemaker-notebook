{
 "cells": [
  {
   "cell_type": "code",
   "execution_count": null,
   "id": "8f5288ce",
   "metadata": {},
   "outputs": [],
   "source": [
    "import sagemaker, boto3, json\n",
    "from sagemaker import get_execution_role\n",
    "\n",
    "aws_role = get_execution_role()\n",
    "aws_region = boto3.Session().region_name\n",
    "sess = sagemaker.Session()\n",
    "\n",
    "model_id = \"model-txt2img-stabilityai-stable-diffusion-v2-1-base\"\n",
    "model_version = \"*\"\n",
    "\n",
    "from sagemaker.jumpstart.model import JumpStartModel\n",
    "my_model = JumpStartModel(model_id=model_id, model_version=model_version)"
   ]
  },
  {
   "cell_type": "code",
   "execution_count": null,
   "id": "70220a38",
   "metadata": {},
   "outputs": [],
   "source": [
    "model_predictor = my_model.deploy()"
   ]
  },
  {
   "cell_type": "code",
   "execution_count": null,
   "id": "4e5dd8d2",
   "metadata": {},
   "outputs": [],
   "source": [
    "import matplotlib.pyplot as plt\n",
    "import numpy as np\n",
    "\n",
    "def query(model_predictor, text):\n",
    "    encoded_text = text.encode(\"utf-8\")\n",
    "    query_response = model_predictor.predict(\n",
    "        encoded_text, \n",
    "        {\n",
    "            \"ContentType\": \"application/x-text\",\n",
    "            \"Accept\": \"application/json\"\n",
    "        }\n",
    "    )\n",
    "    return query_response\n",
    "\n",
    "def parse_response(query_response):\n",
    "    return query_response[\"generated_image\"], query_response[\"prompt\"]\n",
    "\n",
    "def display_img_and_prompt(img, prmpt):\n",
    "    plt.figure(figsize=(12, 12))\n",
    "    plt.imshow(np.array(img))\n",
    "    plt.axis(\"off\")\n",
    "    plt.title(prmpt)\n",
    "    plt.show()"
   ]
  },
  {
   "cell_type": "code",
   "execution_count": null,
   "id": "38f6a983",
   "metadata": {},
   "outputs": [],
   "source": [
    "text = \"playing with cat and dog\"\n",
    "query_response = query(model_predictor, text)\n",
    "img, prmpt = parse_response(query_response)\n",
    "display_img_and_prompt(img, prmpt)"
   ]
  }
 ],
 "metadata": {
  "kernelspec": {
   "display_name": "conda_python3",
   "language": "python",
   "name": "conda_python3"
  },
  "language_info": {
   "codemirror_mode": {
    "name": "ipython",
    "version": 3
   },
   "file_extension": ".py",
   "mimetype": "text/x-python",
   "name": "python",
   "nbconvert_exporter": "python",
   "pygments_lexer": "ipython3",
   "version": "3.10.13"
  }
 },
 "nbformat": 4,
 "nbformat_minor": 5
}
